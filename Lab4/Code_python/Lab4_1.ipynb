{
  "nbformat": 4,
  "nbformat_minor": 0,
  "metadata": {
    "colab": {
      "provenance": []
    },
    "kernelspec": {
      "name": "python3",
      "display_name": "Python 3"
    },
    "language_info": {
      "name": "python"
    }
  },
  "cells": [
    {
      "cell_type": "code",
      "execution_count": 18,
      "metadata": {
        "id": "ShqQoMWJ_iLU"
      },
      "outputs": [],
      "source": [
        "from sklearn.datasets import load_iris\n",
        "import numpy as np\n",
        "import pandas as pd\n",
        "iris = load_iris()"
      ]
    },
    {
      "cell_type": "code",
      "source": [
        "print(\"Feature names: \", iris.feature_names)\n",
        "print(\"Target names: \", iris.target_names)\n",
        "print(\"Data shape: \", iris.data.shape)\n",
        "print(\"Target shape: \", iris.target.shape)\n",
        "\n",
        "print(\"5 mẫu dữ liệu đầu tiên:\")\n",
        "print(iris.data[:5])\n",
        "print(iris.target[:5])\n",
        "\n",
        "df = pd.DataFrame(iris.data, columns=iris.feature_names)\n",
        "df['target'] = iris.target\n",
        "print(df.describe(include='all'))"
      ],
      "metadata": {
        "id": "39-i5Tiy_yZI",
        "colab": {
          "base_uri": "https://localhost:8080/"
        },
        "outputId": "03d90d39-e1dd-4804-8e47-6e7bf84c56e7"
      },
      "execution_count": 19,
      "outputs": [
        {
          "output_type": "stream",
          "name": "stdout",
          "text": [
            "Feature names:  ['sepal length (cm)', 'sepal width (cm)', 'petal length (cm)', 'petal width (cm)']\n",
            "Target names:  ['setosa' 'versicolor' 'virginica']\n",
            "Data shape:  (150, 4)\n",
            "Target shape:  (150,)\n",
            "5 mẫu dữ liệu đầu tiên:\n",
            "[[5.1 3.5 1.4 0.2]\n",
            " [4.9 3.  1.4 0.2]\n",
            " [4.7 3.2 1.3 0.2]\n",
            " [4.6 3.1 1.5 0.2]\n",
            " [5.  3.6 1.4 0.2]]\n",
            "[0 0 0 0 0]\n",
            "       sepal length (cm)  sepal width (cm)  petal length (cm)  \\\n",
            "count         150.000000        150.000000         150.000000   \n",
            "mean            5.843333          3.057333           3.758000   \n",
            "std             0.828066          0.435866           1.765298   \n",
            "min             4.300000          2.000000           1.000000   \n",
            "25%             5.100000          2.800000           1.600000   \n",
            "50%             5.800000          3.000000           4.350000   \n",
            "75%             6.400000          3.300000           5.100000   \n",
            "max             7.900000          4.400000           6.900000   \n",
            "\n",
            "       petal width (cm)      target  \n",
            "count        150.000000  150.000000  \n",
            "mean           1.199333    1.000000  \n",
            "std            0.762238    0.819232  \n",
            "min            0.100000    0.000000  \n",
            "25%            0.300000    0.000000  \n",
            "50%            1.300000    1.000000  \n",
            "75%            1.800000    2.000000  \n",
            "max            2.500000    2.000000  \n"
          ]
        }
      ]
    },
    {
      "cell_type": "code",
      "source": [
        "X = iris.data  # Dữ liệu\n",
        "y = iris.target  # Nhãn\n",
        "\n",
        "# Chuẩn hóa dữ liệu X\n",
        "X = X/X.max(axis=0)"
      ],
      "metadata": {
        "id": "gXdnkJM4CzoD"
      },
      "execution_count": 24,
      "outputs": []
    },
    {
      "cell_type": "code",
      "source": [
        "print(X)"
      ],
      "metadata": {
        "colab": {
          "base_uri": "https://localhost:8080/"
        },
        "id": "bqcdey9_EjSi",
        "outputId": "04b5b0e1-09c8-4d64-8cfa-ee1d0c565363"
      },
      "execution_count": 25,
      "outputs": [
        {
          "output_type": "stream",
          "name": "stdout",
          "text": [
            "[[0.64556962 0.79545455 0.20289855 0.08      ]\n",
            " [0.62025316 0.68181818 0.20289855 0.08      ]\n",
            " [0.59493671 0.72727273 0.1884058  0.08      ]\n",
            " [0.58227848 0.70454545 0.2173913  0.08      ]\n",
            " [0.63291139 0.81818182 0.20289855 0.08      ]\n",
            " [0.6835443  0.88636364 0.24637681 0.16      ]\n",
            " [0.58227848 0.77272727 0.20289855 0.12      ]\n",
            " [0.63291139 0.77272727 0.2173913  0.08      ]\n",
            " [0.55696203 0.65909091 0.20289855 0.08      ]\n",
            " [0.62025316 0.70454545 0.2173913  0.04      ]\n",
            " [0.6835443  0.84090909 0.2173913  0.08      ]\n",
            " [0.60759494 0.77272727 0.23188406 0.08      ]\n",
            " [0.60759494 0.68181818 0.20289855 0.04      ]\n",
            " [0.5443038  0.68181818 0.15942029 0.04      ]\n",
            " [0.73417722 0.90909091 0.17391304 0.08      ]\n",
            " [0.72151899 1.         0.2173913  0.16      ]\n",
            " [0.6835443  0.88636364 0.1884058  0.16      ]\n",
            " [0.64556962 0.79545455 0.20289855 0.12      ]\n",
            " [0.72151899 0.86363636 0.24637681 0.12      ]\n",
            " [0.64556962 0.86363636 0.2173913  0.12      ]\n",
            " [0.6835443  0.77272727 0.24637681 0.08      ]\n",
            " [0.64556962 0.84090909 0.2173913  0.16      ]\n",
            " [0.58227848 0.81818182 0.14492754 0.08      ]\n",
            " [0.64556962 0.75       0.24637681 0.2       ]\n",
            " [0.60759494 0.77272727 0.27536232 0.08      ]\n",
            " [0.63291139 0.68181818 0.23188406 0.08      ]\n",
            " [0.63291139 0.77272727 0.23188406 0.16      ]\n",
            " [0.65822785 0.79545455 0.2173913  0.08      ]\n",
            " [0.65822785 0.77272727 0.20289855 0.08      ]\n",
            " [0.59493671 0.72727273 0.23188406 0.08      ]\n",
            " [0.60759494 0.70454545 0.23188406 0.08      ]\n",
            " [0.6835443  0.77272727 0.2173913  0.16      ]\n",
            " [0.65822785 0.93181818 0.2173913  0.04      ]\n",
            " [0.69620253 0.95454545 0.20289855 0.08      ]\n",
            " [0.62025316 0.70454545 0.2173913  0.08      ]\n",
            " [0.63291139 0.72727273 0.17391304 0.08      ]\n",
            " [0.69620253 0.79545455 0.1884058  0.08      ]\n",
            " [0.62025316 0.81818182 0.20289855 0.04      ]\n",
            " [0.55696203 0.68181818 0.1884058  0.08      ]\n",
            " [0.64556962 0.77272727 0.2173913  0.08      ]\n",
            " [0.63291139 0.79545455 0.1884058  0.12      ]\n",
            " [0.56962025 0.52272727 0.1884058  0.12      ]\n",
            " [0.55696203 0.72727273 0.1884058  0.08      ]\n",
            " [0.63291139 0.79545455 0.23188406 0.24      ]\n",
            " [0.64556962 0.86363636 0.27536232 0.16      ]\n",
            " [0.60759494 0.68181818 0.20289855 0.12      ]\n",
            " [0.64556962 0.86363636 0.23188406 0.08      ]\n",
            " [0.58227848 0.72727273 0.20289855 0.08      ]\n",
            " [0.67088608 0.84090909 0.2173913  0.08      ]\n",
            " [0.63291139 0.75       0.20289855 0.08      ]\n",
            " [0.88607595 0.72727273 0.68115942 0.56      ]\n",
            " [0.81012658 0.72727273 0.65217391 0.6       ]\n",
            " [0.87341772 0.70454545 0.71014493 0.6       ]\n",
            " [0.69620253 0.52272727 0.57971014 0.52      ]\n",
            " [0.82278481 0.63636364 0.66666667 0.6       ]\n",
            " [0.72151899 0.63636364 0.65217391 0.52      ]\n",
            " [0.79746835 0.75       0.68115942 0.64      ]\n",
            " [0.62025316 0.54545455 0.47826087 0.4       ]\n",
            " [0.83544304 0.65909091 0.66666667 0.52      ]\n",
            " [0.65822785 0.61363636 0.56521739 0.56      ]\n",
            " [0.63291139 0.45454545 0.50724638 0.4       ]\n",
            " [0.74683544 0.68181818 0.60869565 0.6       ]\n",
            " [0.75949367 0.5        0.57971014 0.4       ]\n",
            " [0.7721519  0.65909091 0.68115942 0.56      ]\n",
            " [0.70886076 0.65909091 0.52173913 0.52      ]\n",
            " [0.84810127 0.70454545 0.63768116 0.56      ]\n",
            " [0.70886076 0.68181818 0.65217391 0.6       ]\n",
            " [0.73417722 0.61363636 0.5942029  0.4       ]\n",
            " [0.78481013 0.5        0.65217391 0.6       ]\n",
            " [0.70886076 0.56818182 0.56521739 0.44      ]\n",
            " [0.74683544 0.72727273 0.69565217 0.72      ]\n",
            " [0.7721519  0.63636364 0.57971014 0.52      ]\n",
            " [0.79746835 0.56818182 0.71014493 0.6       ]\n",
            " [0.7721519  0.63636364 0.68115942 0.48      ]\n",
            " [0.81012658 0.65909091 0.62318841 0.52      ]\n",
            " [0.83544304 0.68181818 0.63768116 0.56      ]\n",
            " [0.86075949 0.63636364 0.69565217 0.56      ]\n",
            " [0.84810127 0.68181818 0.72463768 0.68      ]\n",
            " [0.75949367 0.65909091 0.65217391 0.6       ]\n",
            " [0.72151899 0.59090909 0.50724638 0.4       ]\n",
            " [0.69620253 0.54545455 0.55072464 0.44      ]\n",
            " [0.69620253 0.54545455 0.53623188 0.4       ]\n",
            " [0.73417722 0.61363636 0.56521739 0.48      ]\n",
            " [0.75949367 0.61363636 0.73913043 0.64      ]\n",
            " [0.6835443  0.68181818 0.65217391 0.6       ]\n",
            " [0.75949367 0.77272727 0.65217391 0.64      ]\n",
            " [0.84810127 0.70454545 0.68115942 0.6       ]\n",
            " [0.79746835 0.52272727 0.63768116 0.52      ]\n",
            " [0.70886076 0.68181818 0.5942029  0.52      ]\n",
            " [0.69620253 0.56818182 0.57971014 0.52      ]\n",
            " [0.69620253 0.59090909 0.63768116 0.48      ]\n",
            " [0.7721519  0.68181818 0.66666667 0.56      ]\n",
            " [0.73417722 0.59090909 0.57971014 0.48      ]\n",
            " [0.63291139 0.52272727 0.47826087 0.4       ]\n",
            " [0.70886076 0.61363636 0.60869565 0.52      ]\n",
            " [0.72151899 0.68181818 0.60869565 0.48      ]\n",
            " [0.72151899 0.65909091 0.60869565 0.52      ]\n",
            " [0.78481013 0.65909091 0.62318841 0.52      ]\n",
            " [0.64556962 0.56818182 0.43478261 0.44      ]\n",
            " [0.72151899 0.63636364 0.5942029  0.52      ]\n",
            " [0.79746835 0.75       0.86956522 1.        ]\n",
            " [0.73417722 0.61363636 0.73913043 0.76      ]\n",
            " [0.89873418 0.68181818 0.85507246 0.84      ]\n",
            " [0.79746835 0.65909091 0.8115942  0.72      ]\n",
            " [0.82278481 0.68181818 0.84057971 0.88      ]\n",
            " [0.96202532 0.68181818 0.95652174 0.84      ]\n",
            " [0.62025316 0.56818182 0.65217391 0.68      ]\n",
            " [0.92405063 0.65909091 0.91304348 0.72      ]\n",
            " [0.84810127 0.56818182 0.84057971 0.72      ]\n",
            " [0.91139241 0.81818182 0.88405797 1.        ]\n",
            " [0.82278481 0.72727273 0.73913043 0.8       ]\n",
            " [0.81012658 0.61363636 0.76811594 0.76      ]\n",
            " [0.86075949 0.68181818 0.79710145 0.84      ]\n",
            " [0.72151899 0.56818182 0.72463768 0.8       ]\n",
            " [0.73417722 0.63636364 0.73913043 0.96      ]\n",
            " [0.81012658 0.72727273 0.76811594 0.92      ]\n",
            " [0.82278481 0.68181818 0.79710145 0.72      ]\n",
            " [0.97468354 0.86363636 0.97101449 0.88      ]\n",
            " [0.97468354 0.59090909 1.         0.92      ]\n",
            " [0.75949367 0.5        0.72463768 0.6       ]\n",
            " [0.87341772 0.72727273 0.82608696 0.92      ]\n",
            " [0.70886076 0.63636364 0.71014493 0.8       ]\n",
            " [0.97468354 0.63636364 0.97101449 0.8       ]\n",
            " [0.79746835 0.61363636 0.71014493 0.72      ]\n",
            " [0.84810127 0.75       0.82608696 0.84      ]\n",
            " [0.91139241 0.72727273 0.86956522 0.72      ]\n",
            " [0.78481013 0.63636364 0.69565217 0.72      ]\n",
            " [0.7721519  0.68181818 0.71014493 0.72      ]\n",
            " [0.81012658 0.63636364 0.8115942  0.84      ]\n",
            " [0.91139241 0.68181818 0.84057971 0.64      ]\n",
            " [0.93670886 0.63636364 0.88405797 0.76      ]\n",
            " [1.         0.86363636 0.92753623 0.8       ]\n",
            " [0.81012658 0.63636364 0.8115942  0.88      ]\n",
            " [0.79746835 0.63636364 0.73913043 0.6       ]\n",
            " [0.7721519  0.59090909 0.8115942  0.56      ]\n",
            " [0.97468354 0.68181818 0.88405797 0.92      ]\n",
            " [0.79746835 0.77272727 0.8115942  0.96      ]\n",
            " [0.81012658 0.70454545 0.79710145 0.72      ]\n",
            " [0.75949367 0.68181818 0.69565217 0.72      ]\n",
            " [0.87341772 0.70454545 0.7826087  0.84      ]\n",
            " [0.84810127 0.70454545 0.8115942  0.96      ]\n",
            " [0.87341772 0.70454545 0.73913043 0.92      ]\n",
            " [0.73417722 0.61363636 0.73913043 0.76      ]\n",
            " [0.86075949 0.72727273 0.85507246 0.92      ]\n",
            " [0.84810127 0.75       0.82608696 1.        ]\n",
            " [0.84810127 0.68181818 0.75362319 0.92      ]\n",
            " [0.79746835 0.56818182 0.72463768 0.76      ]\n",
            " [0.82278481 0.68181818 0.75362319 0.8       ]\n",
            " [0.78481013 0.77272727 0.7826087  0.92      ]\n",
            " [0.74683544 0.68181818 0.73913043 0.72      ]]\n"
          ]
        }
      ]
    },
    {
      "cell_type": "code",
      "source": [
        "from sklearn.model_selection import train_test_split\n",
        "X_train, X_test, y_train, y_test = train_test_split(X, y, test_size=0.2, random_state=42)"
      ],
      "metadata": {
        "id": "O_c5bbOBEvwI"
      },
      "execution_count": 34,
      "outputs": []
    },
    {
      "cell_type": "markdown",
      "source": [
        "**Decision Tree**"
      ],
      "metadata": {
        "id": "Gy4y-K8lLOxE"
      }
    },
    {
      "cell_type": "code",
      "source": [
        "from sklearn.tree import DecisionTreeClassifier\n",
        "decision_tree_model = DecisionTreeClassifier()\n",
        "decision_tree_model.fit(X_train, y_train)"
      ],
      "metadata": {
        "colab": {
          "base_uri": "https://localhost:8080/",
          "height": 74
        },
        "id": "aL2is8qFF8-R",
        "outputId": "f7297a90-32b5-402e-d754-81f97cd4b92a"
      },
      "execution_count": 26,
      "outputs": [
        {
          "output_type": "execute_result",
          "data": {
            "text/plain": [
              "DecisionTreeClassifier()"
            ],
            "text/html": [
              "<style>#sk-container-id-1 {color: black;background-color: white;}#sk-container-id-1 pre{padding: 0;}#sk-container-id-1 div.sk-toggleable {background-color: white;}#sk-container-id-1 label.sk-toggleable__label {cursor: pointer;display: block;width: 100%;margin-bottom: 0;padding: 0.3em;box-sizing: border-box;text-align: center;}#sk-container-id-1 label.sk-toggleable__label-arrow:before {content: \"▸\";float: left;margin-right: 0.25em;color: #696969;}#sk-container-id-1 label.sk-toggleable__label-arrow:hover:before {color: black;}#sk-container-id-1 div.sk-estimator:hover label.sk-toggleable__label-arrow:before {color: black;}#sk-container-id-1 div.sk-toggleable__content {max-height: 0;max-width: 0;overflow: hidden;text-align: left;background-color: #f0f8ff;}#sk-container-id-1 div.sk-toggleable__content pre {margin: 0.2em;color: black;border-radius: 0.25em;background-color: #f0f8ff;}#sk-container-id-1 input.sk-toggleable__control:checked~div.sk-toggleable__content {max-height: 200px;max-width: 100%;overflow: auto;}#sk-container-id-1 input.sk-toggleable__control:checked~label.sk-toggleable__label-arrow:before {content: \"▾\";}#sk-container-id-1 div.sk-estimator input.sk-toggleable__control:checked~label.sk-toggleable__label {background-color: #d4ebff;}#sk-container-id-1 div.sk-label input.sk-toggleable__control:checked~label.sk-toggleable__label {background-color: #d4ebff;}#sk-container-id-1 input.sk-hidden--visually {border: 0;clip: rect(1px 1px 1px 1px);clip: rect(1px, 1px, 1px, 1px);height: 1px;margin: -1px;overflow: hidden;padding: 0;position: absolute;width: 1px;}#sk-container-id-1 div.sk-estimator {font-family: monospace;background-color: #f0f8ff;border: 1px dotted black;border-radius: 0.25em;box-sizing: border-box;margin-bottom: 0.5em;}#sk-container-id-1 div.sk-estimator:hover {background-color: #d4ebff;}#sk-container-id-1 div.sk-parallel-item::after {content: \"\";width: 100%;border-bottom: 1px solid gray;flex-grow: 1;}#sk-container-id-1 div.sk-label:hover label.sk-toggleable__label {background-color: #d4ebff;}#sk-container-id-1 div.sk-serial::before {content: \"\";position: absolute;border-left: 1px solid gray;box-sizing: border-box;top: 0;bottom: 0;left: 50%;z-index: 0;}#sk-container-id-1 div.sk-serial {display: flex;flex-direction: column;align-items: center;background-color: white;padding-right: 0.2em;padding-left: 0.2em;position: relative;}#sk-container-id-1 div.sk-item {position: relative;z-index: 1;}#sk-container-id-1 div.sk-parallel {display: flex;align-items: stretch;justify-content: center;background-color: white;position: relative;}#sk-container-id-1 div.sk-item::before, #sk-container-id-1 div.sk-parallel-item::before {content: \"\";position: absolute;border-left: 1px solid gray;box-sizing: border-box;top: 0;bottom: 0;left: 50%;z-index: -1;}#sk-container-id-1 div.sk-parallel-item {display: flex;flex-direction: column;z-index: 1;position: relative;background-color: white;}#sk-container-id-1 div.sk-parallel-item:first-child::after {align-self: flex-end;width: 50%;}#sk-container-id-1 div.sk-parallel-item:last-child::after {align-self: flex-start;width: 50%;}#sk-container-id-1 div.sk-parallel-item:only-child::after {width: 0;}#sk-container-id-1 div.sk-dashed-wrapped {border: 1px dashed gray;margin: 0 0.4em 0.5em 0.4em;box-sizing: border-box;padding-bottom: 0.4em;background-color: white;}#sk-container-id-1 div.sk-label label {font-family: monospace;font-weight: bold;display: inline-block;line-height: 1.2em;}#sk-container-id-1 div.sk-label-container {text-align: center;}#sk-container-id-1 div.sk-container {/* jupyter's `normalize.less` sets `[hidden] { display: none; }` but bootstrap.min.css set `[hidden] { display: none !important; }` so we also need the `!important` here to be able to override the default hidden behavior on the sphinx rendered scikit-learn.org. See: https://github.com/scikit-learn/scikit-learn/issues/21755 */display: inline-block !important;position: relative;}#sk-container-id-1 div.sk-text-repr-fallback {display: none;}</style><div id=\"sk-container-id-1\" class=\"sk-top-container\"><div class=\"sk-text-repr-fallback\"><pre>DecisionTreeClassifier()</pre><b>In a Jupyter environment, please rerun this cell to show the HTML representation or trust the notebook. <br />On GitHub, the HTML representation is unable to render, please try loading this page with nbviewer.org.</b></div><div class=\"sk-container\" hidden><div class=\"sk-item\"><div class=\"sk-estimator sk-toggleable\"><input class=\"sk-toggleable__control sk-hidden--visually\" id=\"sk-estimator-id-1\" type=\"checkbox\" checked><label for=\"sk-estimator-id-1\" class=\"sk-toggleable__label sk-toggleable__label-arrow\">DecisionTreeClassifier</label><div class=\"sk-toggleable__content\"><pre>DecisionTreeClassifier()</pre></div></div></div></div></div>"
            ]
          },
          "metadata": {},
          "execution_count": 26
        }
      ]
    },
    {
      "cell_type": "code",
      "source": [
        "from sklearn.metrics import accuracy_score, classification_report, confusion_matrix\n",
        "y_pred = decision_tree_model.predict(X_test)\n",
        "accuracy = accuracy_score(y_test, y_pred)\n",
        "print(\"Accuracy: \", accuracy)"
      ],
      "metadata": {
        "colab": {
          "base_uri": "https://localhost:8080/"
        },
        "id": "YEYuj8FyG57L",
        "outputId": "bdcd71f8-7435-4a43-8d62-1df568a72de8"
      },
      "execution_count": 30,
      "outputs": [
        {
          "output_type": "stream",
          "name": "stdout",
          "text": [
            "Accuracy:  1.0\n"
          ]
        }
      ]
    },
    {
      "cell_type": "code",
      "source": [
        "import matplotlib.pyplot as plt\n",
        "import seaborn as sns\n",
        "report = classification_report(y_test, y_pred)\n",
        "print(report)\n",
        "conf_matrix = confusion_matrix(y_test, y_pred)\n",
        "plt.figure(figsize=(8,6))\n",
        "sns.heatmap(conf_matrix, annot=True, cmap='Blues', fmt='d', xticklabels=iris.target_names, yticklabels=iris.target_names)\n",
        "plt.xlabel('Predict labels')\n",
        "plt.ylabel('True labels')\n",
        "plt.title('Decision Tree Confusion Matrix')\n",
        "plt.show()"
      ],
      "metadata": {
        "colab": {
          "base_uri": "https://localhost:8080/",
          "height": 738
        },
        "id": "PmIXnSzFHa4F",
        "outputId": "a9a91e1f-53bc-425a-b3cc-b5a9b35e9b0e"
      },
      "execution_count": 33,
      "outputs": [
        {
          "output_type": "stream",
          "name": "stdout",
          "text": [
            "              precision    recall  f1-score   support\n",
            "\n",
            "           0       1.00      1.00      1.00        10\n",
            "           1       1.00      1.00      1.00         9\n",
            "           2       1.00      1.00      1.00        11\n",
            "\n",
            "    accuracy                           1.00        30\n",
            "   macro avg       1.00      1.00      1.00        30\n",
            "weighted avg       1.00      1.00      1.00        30\n",
            "\n"
          ]
        },
        {
          "output_type": "display_data",
          "data": {
            "text/plain": [
              "<Figure size 800x600 with 2 Axes>"
            ],
            "image/png": "[encoded data removed]"
          },
          "metadata": {}
        }
      ]
    },
    {
      "cell_type": "markdown",
      "source": [
        "**Naïve\tBayes**"
      ],
      "metadata": {
        "id": "2vYxtU59LbiH"
      }
    },
    {
      "cell_type": "code",
      "source": [
        "from sklearn.naive_bayes import GaussianNB\n",
        "# Khởi tạo mô hình Gaussian Naive Bayes\n",
        "gnb_model = GaussianNB()\n",
        "\n",
        "# Huấn luyện mô hình trên tập train\n",
        "gnb_model.fit(X_train, y_train)\n",
        "# Dự đoán trên tập test\n",
        "y_pred = gnb_model.predict(X_test)\n",
        "\n",
        "# Đánh giá độ chính xác bằng accuracy_score\n",
        "accuracy = accuracy_score(y_test, y_pred)\n",
        "print(\"Độ chính xác mô hình Naive Bayes:\", accuracy)\n",
        "import matplotlib.pyplot as plt\n",
        "import seaborn as sns\n",
        "report = classification_report(y_test, y_pred)\n",
        "print(report)\n",
        "conf_matrix = confusion_matrix(y_test, y_pred)\n",
        "plt.figure(figsize=(8,6))\n",
        "sns.heatmap(conf_matrix, annot=True, cmap='Blues', fmt='d', xticklabels=iris.target_names, yticklabels=iris.target_names)\n",
        "plt.xlabel('Predict labels')\n",
        "plt.ylabel('True labels')\n",
        "plt.title('Naïve Bayes Confusion Matrix')\n",
        "plt.show()\n"
      ],
      "metadata": {
        "colab": {
          "base_uri": "https://localhost:8080/",
          "height": 755
        },
        "id": "uDT5DxzkKIev",
        "outputId": "248ac6b6-a4fc-4415-e014-fff75275c6b4"
      },
      "execution_count": 35,
      "outputs": [
        {
          "output_type": "stream",
          "name": "stdout",
          "text": [
            "Độ chính xác mô hình Naive Bayes: 1.0\n",
            "              precision    recall  f1-score   support\n",
            "\n",
            "           0       1.00      1.00      1.00        10\n",
            "           1       1.00      1.00      1.00         9\n",
            "           2       1.00      1.00      1.00        11\n",
            "\n",
            "    accuracy                           1.00        30\n",
            "   macro avg       1.00      1.00      1.00        30\n",
            "weighted avg       1.00      1.00      1.00        30\n",
            "\n"
          ]
        },
        {
          "output_type": "display_data",
          "data": {
            "text/plain": [
              "<Figure size 800x600 with 2 Axes>"
            ],
            "image/png": "[encoded data removed]"
          },
          "metadata": {}
        }
      ]
    },
    {
      "cell_type": "markdown",
      "source": [
        "**K Nearest Neighbors\tClassizier**"
      ],
      "metadata": {
        "id": "7uIxXlKTLnMY"
      }
    },
    {
      "cell_type": "code",
      "source": [
        "from sklearn.neighbors import KNeighborsClassifier\n",
        "knn_model = KNeighborsClassifier()\n",
        "knn_model.fit(X_train, y_train)\n",
        "# Dự đoán trên tập test\n",
        "y_pred = knn_model.predict(X_test)\n",
        "\n",
        "# Đánh giá độ chính xác bằng accuracy_score\n",
        "accuracy = accuracy_score(y_test, y_pred)\n",
        "print(\"Độ chính xác mô hình KNN:\", accuracy)\n",
        "import matplotlib.pyplot as plt\n",
        "import seaborn as sns\n",
        "report = classification_report(y_test, y_pred)\n",
        "print(report)\n",
        "conf_matrix = confusion_matrix(y_test, y_pred)\n",
        "plt.figure(figsize=(8,6))\n",
        "sns.heatmap(conf_matrix, annot=True, cmap='Blues', fmt='d', xticklabels=iris.target_names, yticklabels=iris.target_names)\n",
        "plt.xlabel('Predict labels')\n",
        "plt.ylabel('True labels')\n",
        "plt.title('K Nearest Neighbors Classizier Confusion Matrix')\n",
        "plt.show()"
      ],
      "metadata": {
        "colab": {
          "base_uri": "https://localhost:8080/",
          "height": 755
        },
        "id": "ZvGpG1X3Kexv",
        "outputId": "5e467d10-1ad2-4a84-89d1-57a6743eb8af"
      },
      "execution_count": 36,
      "outputs": [
        {
          "output_type": "stream",
          "name": "stdout",
          "text": [
            "Độ chính xác mô hình KNN: 1.0\n",
            "              precision    recall  f1-score   support\n",
            "\n",
            "           0       1.00      1.00      1.00        10\n",
            "           1       1.00      1.00      1.00         9\n",
            "           2       1.00      1.00      1.00        11\n",
            "\n",
            "    accuracy                           1.00        30\n",
            "   macro avg       1.00      1.00      1.00        30\n",
            "weighted avg       1.00      1.00      1.00        30\n",
            "\n"
          ]
        },
        {
          "output_type": "display_data",
          "data": {
            "text/plain": [
              "<Figure size 800x600 with 2 Axes>"
            ],
            "image/png": "[encoded data removed]"
          },
          "metadata": {}
        }
      ]
    },
    {
      "cell_type": "markdown",
      "source": [
        "**Neural\tNetwork**\n",
        "\n",
        "\n"
      ],
      "metadata": {
        "id": "ZszLWDiBLrgh"
      }
    },
    {
      "cell_type": "code",
      "source": [
        "from tensorflow.keras.models import Sequential\n",
        "from tensorflow.keras.layers import Dense\n",
        "\n",
        "neural_network_model = Sequential([\n",
        "    Dense(10, activation='relu', input_shape=(X_train.shape[1],)),\n",
        "    Dense(20, activation='relu'),\n",
        "    Dense(3, activation='softmax')\n",
        "])\n",
        "\n",
        "neural_network_model.compile(optimizer='adam', loss='sparse_categorical_crossentropy', metrics=['accuracy'])\n",
        "neural_network_model.fit(X_train, y_train, epochs=100, batch_size=1, verbose=1)"
      ],
      "metadata": {
        "colab": {
          "base_uri": "https://localhost:8080/"
        },
        "id": "7E1DUR67Lxh0",
        "outputId": "2f82c758-fe96-446a-bbce-4fd5c5eee994"
      },
      "execution_count": 40,
      "outputs": [
        {
          "output_type": "stream",
          "name": "stdout",
          "text": [
            "Epoch 1/100\n",
            "120/120 [==============================] - 2s 4ms/step - loss: 1.0633 - accuracy: 0.4833\n",
            "Epoch 2/100\n",
            "120/120 [==============================] - 1s 5ms/step - loss: 0.9776 - accuracy: 0.6833\n",
            "Epoch 3/100\n",
            "120/120 [==============================] - 1s 8ms/step - loss: 0.8571 - accuracy: 0.8417\n",
            "Epoch 4/100\n",
            "120/120 [==============================] - 1s 7ms/step - loss: 0.7215 - accuracy: 0.7500\n",
            "Epoch 5/100\n",
            "120/120 [==============================] - 0s 4ms/step - loss: 0.5966 - accuracy: 0.9000\n",
            "Epoch 6/100\n",
            "120/120 [==============================] - 1s 5ms/step - loss: 0.5053 - accuracy: 0.9250\n",
            "Epoch 7/100\n",
            "120/120 [==============================] - 1s 5ms/step - loss: 0.4440 - accuracy: 0.9333\n",
            "Epoch 8/100\n",
            "120/120 [==============================] - 1s 5ms/step - loss: 0.3938 - accuracy: 0.9500\n",
            "Epoch 9/100\n",
            "120/120 [==============================] - 1s 5ms/step - loss: 0.3504 - accuracy: 0.9583\n",
            "Epoch 10/100\n",
            "120/120 [==============================] - 0s 3ms/step - loss: 0.3135 - accuracy: 0.9667\n",
            "Epoch 11/100\n",
            "120/120 [==============================] - 0s 3ms/step - loss: 0.2926 - accuracy: 0.9417\n",
            "Epoch 12/100\n",
            "120/120 [==============================] - 0s 4ms/step - loss: 0.2624 - accuracy: 0.9500\n",
            "Epoch 13/100\n",
            "120/120 [==============================] - 0s 4ms/step - loss: 0.2416 - accuracy: 0.9750\n",
            "Epoch 14/100\n",
            "120/120 [==============================] - 0s 3ms/step - loss: 0.2213 - accuracy: 0.9417\n",
            "Epoch 15/100\n",
            "120/120 [==============================] - 0s 2ms/step - loss: 0.2078 - accuracy: 0.9583\n",
            "Epoch 16/100\n",
            "120/120 [==============================] - 0s 2ms/step - loss: 0.1878 - accuracy: 0.9583\n",
            "Epoch 17/100\n",
            "120/120 [==============================] - 0s 2ms/step - loss: 0.1748 - accuracy: 0.9750\n",
            "Epoch 18/100\n",
            "120/120 [==============================] - 0s 2ms/step - loss: 0.1626 - accuracy: 0.9667\n",
            "Epoch 19/100\n",
            "120/120 [==============================] - 0s 2ms/step - loss: 0.1495 - accuracy: 0.9667\n",
            "Epoch 20/100\n",
            "120/120 [==============================] - 0s 2ms/step - loss: 0.1417 - accuracy: 0.9833\n",
            "Epoch 21/100\n",
            "120/120 [==============================] - 0s 2ms/step - loss: 0.1457 - accuracy: 0.9583\n",
            "Epoch 22/100\n",
            "120/120 [==============================] - 0s 2ms/step - loss: 0.1330 - accuracy: 0.9750\n",
            "Epoch 23/100\n",
            "120/120 [==============================] - 0s 2ms/step - loss: 0.1372 - accuracy: 0.9500\n",
            "Epoch 24/100\n",
            "120/120 [==============================] - 0s 2ms/step - loss: 0.1262 - accuracy: 0.9750\n",
            "Epoch 25/100\n",
            "120/120 [==============================] - 0s 2ms/step - loss: 0.1126 - accuracy: 0.9667\n",
            "Epoch 26/100\n",
            "120/120 [==============================] - 0s 2ms/step - loss: 0.1181 - accuracy: 0.9583\n",
            "Epoch 27/100\n",
            "120/120 [==============================] - 0s 2ms/step - loss: 0.1108 - accuracy: 0.9750\n",
            "Epoch 28/100\n",
            "120/120 [==============================] - 0s 2ms/step - loss: 0.1088 - accuracy: 0.9583\n",
            "Epoch 29/100\n",
            "120/120 [==============================] - 0s 3ms/step - loss: 0.1058 - accuracy: 0.9583\n",
            "Epoch 30/100\n",
            "120/120 [==============================] - 0s 2ms/step - loss: 0.1014 - accuracy: 0.9750\n",
            "Epoch 31/100\n",
            "120/120 [==============================] - 0s 2ms/step - loss: 0.1005 - accuracy: 0.9667\n",
            "Epoch 32/100\n",
            "120/120 [==============================] - 0s 4ms/step - loss: 0.1010 - accuracy: 0.9667\n",
            "Epoch 33/100\n",
            "120/120 [==============================] - 1s 6ms/step - loss: 0.1094 - accuracy: 0.9583\n",
            "Epoch 34/100\n",
            "120/120 [==============================] - 1s 4ms/step - loss: 0.0944 - accuracy: 0.9583\n",
            "Epoch 35/100\n",
            "120/120 [==============================] - 0s 4ms/step - loss: 0.0898 - accuracy: 0.9667\n",
            "Epoch 36/100\n",
            "120/120 [==============================] - 0s 4ms/step - loss: 0.0895 - accuracy: 0.9667\n",
            "Epoch 37/100\n",
            "120/120 [==============================] - 0s 3ms/step - loss: 0.0905 - accuracy: 0.9667\n",
            "Epoch 38/100\n",
            "120/120 [==============================] - 0s 3ms/step - loss: 0.0933 - accuracy: 0.9583\n",
            "Epoch 39/100\n",
            "120/120 [==============================] - 0s 3ms/step - loss: 0.0863 - accuracy: 0.9667\n",
            "Epoch 40/100\n",
            "120/120 [==============================] - 1s 5ms/step - loss: 0.0818 - accuracy: 0.9583\n",
            "Epoch 41/100\n",
            "120/120 [==============================] - 1s 4ms/step - loss: 0.0833 - accuracy: 0.9667\n",
            "Epoch 42/100\n",
            "120/120 [==============================] - 1s 5ms/step - loss: 0.0859 - accuracy: 0.9583\n",
            "Epoch 43/100\n",
            "120/120 [==============================] - 1s 5ms/step - loss: 0.0784 - accuracy: 0.9667\n",
            "Epoch 44/100\n",
            "120/120 [==============================] - 0s 4ms/step - loss: 0.0929 - accuracy: 0.9750\n",
            "Epoch 45/100\n",
            "120/120 [==============================] - 0s 3ms/step - loss: 0.0792 - accuracy: 0.9500\n",
            "Epoch 46/100\n",
            "120/120 [==============================] - 0s 2ms/step - loss: 0.0869 - accuracy: 0.9583\n",
            "Epoch 47/100\n",
            "120/120 [==============================] - 0s 2ms/step - loss: 0.0840 - accuracy: 0.9583\n",
            "Epoch 48/100\n",
            "120/120 [==============================] - 0s 2ms/step - loss: 0.0862 - accuracy: 0.9583\n",
            "Epoch 49/100\n",
            "120/120 [==============================] - 0s 2ms/step - loss: 0.0787 - accuracy: 0.9750\n",
            "Epoch 50/100\n",
            "120/120 [==============================] - 0s 2ms/step - loss: 0.0784 - accuracy: 0.9667\n",
            "Epoch 51/100\n",
            "120/120 [==============================] - 0s 2ms/step - loss: 0.0746 - accuracy: 0.9750\n",
            "Epoch 52/100\n",
            "120/120 [==============================] - 0s 3ms/step - loss: 0.0821 - accuracy: 0.9667\n",
            "Epoch 53/100\n",
            "120/120 [==============================] - 0s 2ms/step - loss: 0.0769 - accuracy: 0.9667\n",
            "Epoch 54/100\n",
            "120/120 [==============================] - 0s 2ms/step - loss: 0.0825 - accuracy: 0.9667\n",
            "Epoch 55/100\n",
            "120/120 [==============================] - 0s 2ms/step - loss: 0.0794 - accuracy: 0.9583\n",
            "Epoch 56/100\n",
            "120/120 [==============================] - 0s 2ms/step - loss: 0.0780 - accuracy: 0.9667\n",
            "Epoch 57/100\n",
            "120/120 [==============================] - 0s 2ms/step - loss: 0.0829 - accuracy: 0.9583\n",
            "Epoch 58/100\n",
            "120/120 [==============================] - 0s 2ms/step - loss: 0.0751 - accuracy: 0.9750\n",
            "Epoch 59/100\n",
            "120/120 [==============================] - 0s 2ms/step - loss: 0.0728 - accuracy: 0.9750\n",
            "Epoch 60/100\n",
            "120/120 [==============================] - 0s 2ms/step - loss: 0.0738 - accuracy: 0.9750\n",
            "Epoch 61/100\n",
            "120/120 [==============================] - 0s 2ms/step - loss: 0.0733 - accuracy: 0.9500\n",
            "Epoch 62/100\n",
            "120/120 [==============================] - 0s 2ms/step - loss: 0.0729 - accuracy: 0.9667\n",
            "Epoch 63/100\n",
            "120/120 [==============================] - 0s 2ms/step - loss: 0.0730 - accuracy: 0.9667\n",
            "Epoch 64/100\n",
            "120/120 [==============================] - 0s 2ms/step - loss: 0.0785 - accuracy: 0.9667\n",
            "Epoch 65/100\n",
            "120/120 [==============================] - 0s 2ms/step - loss: 0.0846 - accuracy: 0.9583\n",
            "Epoch 66/100\n",
            "120/120 [==============================] - 0s 2ms/step - loss: 0.0746 - accuracy: 0.9750\n",
            "Epoch 67/100\n",
            "120/120 [==============================] - 0s 2ms/step - loss: 0.0741 - accuracy: 0.9583\n",
            "Epoch 68/100\n",
            "120/120 [==============================] - 0s 2ms/step - loss: 0.0711 - accuracy: 0.9667\n",
            "Epoch 69/100\n",
            "120/120 [==============================] - 0s 2ms/step - loss: 0.0725 - accuracy: 0.9583\n",
            "Epoch 70/100\n",
            "120/120 [==============================] - 0s 2ms/step - loss: 0.0677 - accuracy: 0.9667\n",
            "Epoch 71/100\n",
            "120/120 [==============================] - 0s 2ms/step - loss: 0.0765 - accuracy: 0.9583\n",
            "Epoch 72/100\n",
            "120/120 [==============================] - 0s 2ms/step - loss: 0.0732 - accuracy: 0.9667\n",
            "Epoch 73/100\n",
            "120/120 [==============================] - 0s 3ms/step - loss: 0.0711 - accuracy: 0.9667\n",
            "Epoch 74/100\n",
            "120/120 [==============================] - 0s 3ms/step - loss: 0.0675 - accuracy: 0.9583\n",
            "Epoch 75/100\n",
            "120/120 [==============================] - 0s 2ms/step - loss: 0.0807 - accuracy: 0.9667\n",
            "Epoch 76/100\n",
            "120/120 [==============================] - 0s 3ms/step - loss: 0.0709 - accuracy: 0.9750\n",
            "Epoch 77/100\n",
            "120/120 [==============================] - 0s 2ms/step - loss: 0.0700 - accuracy: 0.9583\n",
            "Epoch 78/100\n",
            "120/120 [==============================] - 0s 2ms/step - loss: 0.0658 - accuracy: 0.9750\n",
            "Epoch 79/100\n",
            "120/120 [==============================] - 0s 2ms/step - loss: 0.0667 - accuracy: 0.9667\n",
            "Epoch 80/100\n",
            "120/120 [==============================] - 0s 2ms/step - loss: 0.0663 - accuracy: 0.9667\n",
            "Epoch 81/100\n",
            "120/120 [==============================] - 0s 2ms/step - loss: 0.0613 - accuracy: 0.9750\n",
            "Epoch 82/100\n",
            "120/120 [==============================] - 0s 2ms/step - loss: 0.0692 - accuracy: 0.9667\n",
            "Epoch 83/100\n",
            "120/120 [==============================] - 0s 2ms/step - loss: 0.0810 - accuracy: 0.9667\n",
            "Epoch 84/100\n",
            "120/120 [==============================] - 0s 3ms/step - loss: 0.0667 - accuracy: 0.9750\n",
            "Epoch 85/100\n",
            "120/120 [==============================] - 0s 3ms/step - loss: 0.0716 - accuracy: 0.9750\n",
            "Epoch 86/100\n",
            "120/120 [==============================] - 0s 4ms/step - loss: 0.0662 - accuracy: 0.9750\n",
            "Epoch 87/100\n",
            "120/120 [==============================] - 0s 4ms/step - loss: 0.0665 - accuracy: 0.9667\n",
            "Epoch 88/100\n",
            "120/120 [==============================] - 0s 4ms/step - loss: 0.0720 - accuracy: 0.9667\n",
            "Epoch 89/100\n",
            "120/120 [==============================] - 0s 3ms/step - loss: 0.0708 - accuracy: 0.9667\n",
            "Epoch 90/100\n",
            "120/120 [==============================] - 0s 3ms/step - loss: 0.0687 - accuracy: 0.9667\n",
            "Epoch 91/100\n",
            "120/120 [==============================] - 0s 2ms/step - loss: 0.0662 - accuracy: 0.9667\n",
            "Epoch 92/100\n",
            "120/120 [==============================] - 0s 2ms/step - loss: 0.0719 - accuracy: 0.9667\n",
            "Epoch 93/100\n",
            "120/120 [==============================] - 0s 2ms/step - loss: 0.0690 - accuracy: 0.9583\n",
            "Epoch 94/100\n",
            "120/120 [==============================] - 0s 2ms/step - loss: 0.0649 - accuracy: 0.9750\n",
            "Epoch 95/100\n",
            "120/120 [==============================] - 0s 3ms/step - loss: 0.0682 - accuracy: 0.9667\n",
            "Epoch 96/100\n",
            "120/120 [==============================] - 0s 3ms/step - loss: 0.0619 - accuracy: 0.9750\n",
            "Epoch 97/100\n",
            "120/120 [==============================] - 0s 2ms/step - loss: 0.0645 - accuracy: 0.9583\n",
            "Epoch 98/100\n",
            "120/120 [==============================] - 0s 2ms/step - loss: 0.0778 - accuracy: 0.9750\n",
            "Epoch 99/100\n",
            "120/120 [==============================] - 0s 2ms/step - loss: 0.0714 - accuracy: 0.9667\n",
            "Epoch 100/100\n",
            "120/120 [==============================] - 0s 2ms/step - loss: 0.0548 - accuracy: 0.9750\n"
          ]
        },
        {
          "output_type": "execute_result",
          "data": {
            "text/plain": [
              "<keras.src.callbacks.History at 0x7b640a8ad540>"
            ]
          },
          "metadata": {},
          "execution_count": 40
        }
      ]
    },
    {
      "cell_type": "code",
      "source": [
        "y_pred_prob = neural_network_model.predict(X_test)\n",
        "y_pred = np.argmax(y_pred_prob, axis=1)\n",
        "accuracy = accuracy_score(y_test, y_pred)\n",
        "print(\"Độ chính xác mô hình Naive Bayes:\", accuracy)\n",
        "import matplotlib.pyplot as plt\n",
        "import seaborn as sns\n",
        "report = classification_report(y_test, y_pred)\n",
        "print(report)\n",
        "conf_matrix = confusion_matrix(y_test, y_pred)\n",
        "plt.figure(figsize=(8,6))\n",
        "sns.heatmap(conf_matrix, annot=True, cmap='Blues', fmt='d', xticklabels=iris.target_names, yticklabels=iris.target_names)\n",
        "plt.xlabel('Predict labels')\n",
        "plt.ylabel('True labels')\n",
        "plt.title('Neural Network Confusion Matrix')\n",
        "plt.show()\n"
      ],
      "metadata": {
        "colab": {
          "base_uri": "https://localhost:8080/",
          "height": 772
        },
        "id": "pHdHY2usOid9",
        "outputId": "712b1915-5513-441e-be0a-4314d9c743f1"
      },
      "execution_count": 42,
      "outputs": [
        {
          "output_type": "stream",
          "name": "stdout",
          "text": [
            "1/1 [==============================] - 0s 24ms/step\n",
            "Độ chính xác mô hình Naive Bayes: 0.9666666666666667\n",
            "              precision    recall  f1-score   support\n",
            "\n",
            "           0       1.00      1.00      1.00        10\n",
            "           1       1.00      0.89      0.94         9\n",
            "           2       0.92      1.00      0.96        11\n",
            "\n",
            "    accuracy                           0.97        30\n",
            "   macro avg       0.97      0.96      0.97        30\n",
            "weighted avg       0.97      0.97      0.97        30\n",
            "\n"
          ]
        },
        {
          "output_type": "display_data",
          "data": {
            "text/plain": [
              "<Figure size 800x600 with 2 Axes>"
            ],
            "image/png": "[encoded data removed]"
          },
          "metadata": {}
        }
      ]
    },
    {
      "cell_type": "code",
      "source": [
        "import numpy as np"
      ],
      "metadata": {
        "id": "u_d_1ZeZPX0o"
      },
      "execution_count": 43,
      "outputs": []
    },
    {
      "cell_type": "code",
      "source": [
        "new_data = np.array([[5.1, 3.5, 1.4, 0.2],\n",
        "                     [6.2, 2.9, 4.3, 1.3],\n",
        "                     [7.3, 2.8, 6.4, 2.1],\n",
        "                     [2.1, 8.8, 8.5, 9.2]])\n",
        "\n",
        "new_data = new_data / new_data.max(axis=0)\n",
        "\n",
        "pred_prob_DT = decision_tree_model.predict(new_data)\n",
        "\n",
        "pred_prob_naive = gnb_model.predict(new_data)\n",
        "\n",
        "pred_prob_knn = knn_model.predict(new_data)\n",
        "\n",
        "pred_prob_nn = neural_network_model.predict(new_data)\n",
        "pred_nn = np.argmax(pred_prob_nn, axis=1)\n",
        "\n",
        "print(\"Decision Tree Predicted labels: \", pred_prob_DT)\n",
        "print(\"Naive Bayes Predicted labels: \", pred_prob_naive)\n",
        "print(\"KNN Predicted labels: \", pred_prob_knn)\n",
        "print(\"Neutral Network Predicted labels: \", pred_nn )"
      ],
      "metadata": {
        "colab": {
          "base_uri": "https://localhost:8080/"
        },
        "id": "zjALeNnWPdAw",
        "outputId": "4ee76606-e3e7-44e9-8e47-5fa7b19f48f0"
      },
      "execution_count": 45,
      "outputs": [
        {
          "output_type": "stream",
          "name": "stdout",
          "text": [
            "1/1 [==============================] - 0s 41ms/step\n",
            "Decision Tree Predicted labels:  [0 0 0 0]\n",
            "Naive Bayes Predicted labels:  [0 1 1 2]\n",
            "KNN Predicted labels:  [0 1 1 2]\n",
            "Neutral Network Predicted labels:  [0 1 1 2]\n"
          ]
        }
      ]
    },
    {
      "cell_type": "markdown",
      "source": [
        "Nhận xét\n",
        "\n",
        "Decision Tree: Dự đoán tất cả các mẫu thuộc lớp 0.\n",
        "\n",
        "  Naive Bayes, KNN, Neural Network: Dự đoán tất cả các mẫu đều thuộc các lớp khác nhau (0, 1, 2).\n",
        "Phân tích:\n",
        "\n",
        "\n",
        "*   Decision Tree: Có vẻ như mô hình Decision Tree đã overfitting (học thuộc lòng) dữ liệu train và không thể tổng quát hóa tốt cho dữ liệu mới. Nó luôn dự đoán tất cả các mẫu thuộc cùng một lớp.\n",
        "*   Naive Bayes, KNN, Neural Network: Các mô hình này có vẻ như đang dự đoán chính xác hơn bằng cách phân loại các mẫu vào các lớp khác nhau.\n",
        "\n"
      ],
      "metadata": {
        "id": "2oxARO7tSSic"
      }
    }
  ]
}